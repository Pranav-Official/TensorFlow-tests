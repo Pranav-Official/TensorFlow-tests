{
 "cells": [
  {
   "cell_type": "code",
   "execution_count": 2,
   "metadata": {},
   "outputs": [],
   "source": [
    "%config IPCompleter.greedy=True"
   ]
  },
  {
   "cell_type": "code",
   "execution_count": 18,
   "metadata": {},
   "outputs": [],
   "source": [
    "import numpy as np"
   ]
  },
  {
   "cell_type": "code",
   "execution_count": 3,
   "metadata": {},
   "outputs": [],
   "source": [
    "import tensorflow as tf\n",
    "import os"
   ]
  },
  {
   "cell_type": "code",
   "execution_count": 15,
   "metadata": {},
   "outputs": [],
   "source": [
    "from tensorflow.keras.optimizers import RMSprop\n",
    "from tensorflow.keras.preprocessing.image import ImageDataGenerator"
   ]
  },
  {
   "cell_type": "code",
   "execution_count": 16,
   "metadata": {},
   "outputs": [],
   "source": [
    "from tensorflow.keras.preprocessing import image"
   ]
  },
  {
   "cell_type": "code",
   "execution_count": 5,
   "metadata": {},
   "outputs": [],
   "source": [
    "data_path = # path to your data set"
   ]
  },
  {
   "cell_type": "code",
   "execution_count": 36,
   "metadata": {},
   "outputs": [],
   "source": [
    "class myCallback(tf.keras.callbacks.Callback):\n",
    "    def on_epoch_end(self, epoch, logs={}):\n",
    "        if(logs.get('acc')>0.95):\n",
    "            print(\"\\nReached 95.0% accuracy so cancelling training!\")\n",
    "            self.model.stop_training = True\n"
   ]
  },
  {
   "cell_type": "code",
   "execution_count": 6,
   "metadata": {},
   "outputs": [],
   "source": [
    "def create_model():\n",
    "    model = tf.keras.models.Sequential([\n",
    "    tf.keras.layers.Conv2D(32, (3,3), activation='relu', input_shape=(150, 150, 3)),\n",
    "    tf.keras.layers.MaxPooling2D(2, 2),\n",
    "    tf.keras.layers.Conv2D(64, (3,3), activation='relu'),\n",
    "    tf.keras.layers.MaxPooling2D(2,2),\n",
    "    tf.keras.layers.Conv2D(128, (3,3), activation='relu'),\n",
    "    tf.keras.layers.MaxPooling2D(2,2),\n",
    "    tf.keras.layers.Flatten(),\n",
    "    tf.keras.layers.Dense(512, activation='relu'),\n",
    "    tf.keras.layers.Dense(1, activation='sigmoid')])\n",
    "    \n",
    "    model.compile(optimizer = RMSprop(lr=0.0001), \n",
    "              loss = 'binary_crossentropy', \n",
    "              metrics = ['acc'])\n",
    "\n",
    "    return model3#"
   ]
  },
  {
   "cell_type": "code",
   "execution_count": 43,
   "metadata": {},
   "outputs": [
    {
     "name": "stdout",
     "output_type": "stream",
     "text": [
      "Found 1027 images belonging to 2 classes.\n"
     ]
    }
   ],
   "source": [
    "data_set = ImageDataGenerator(rescale= 1/255,       # ImageGenerator with augmentation\n",
    "                              rotation_range=40,\n",
    "                              width_shift_range=0.2,\n",
    "                              height_shift_range=0.2,\n",
    "                              shear_range=0.2,\n",
    "                              zoom_range=0.2,\n",
    "                              horizontal_flip=True,\n",
    "                              fill_mode='nearest')\n",
    "\n",
    "data_gen = data_set.flow_from_directory(\n",
    "        data_path,  \n",
    "        target_size=(150, 150),  \n",
    "        batch_size=128,\n",
    "        class_mode='binary')\n"
   ]
  },
  {
   "cell_type": "code",
   "execution_count": 47,
   "metadata": {},
   "outputs": [],
   "source": [
    "model =  create_model()"
   ]
  },
  {
   "cell_type": "code",
   "execution_count": 37,
   "metadata": {},
   "outputs": [],
   "source": [
    "callbacks = myCallback()"
   ]
  },
  {
   "cell_type": "code",
   "execution_count": 48,
   "metadata": {},
   "outputs": [
    {
     "name": "stdout",
     "output_type": "stream",
     "text": [
      "Epoch 1/8\n",
      "8/8 [==============================] - 16s 2s/step - loss: 0.9564 - acc: 0.5206\n",
      "Epoch 2/8\n",
      "8/8 [==============================] - 15s 2s/step - loss: 0.7226 - acc: 0.6085\n",
      "Epoch 3/8\n",
      "8/8 [==============================] - 16s 2s/step - loss: 0.5946 - acc: 0.6552\n",
      "Epoch 4/8\n",
      "8/8 [==============================] - 16s 2s/step - loss: 0.6064 - acc: 0.6607\n",
      "Epoch 5/8\n",
      "8/8 [==============================] - 16s 2s/step - loss: 0.5335 - acc: 0.7141\n",
      "Epoch 6/8\n",
      "8/8 [==============================] - 16s 2s/step - loss: 0.4850 - acc: 0.7575\n",
      "Epoch 7/8\n",
      "8/8 [==============================] - 16s 2s/step - loss: 0.5484 - acc: 0.7119\n",
      "Epoch 8/8\n",
      "8/8 [==============================] - 15s 2s/step - loss: 0.4749 - acc: 0.7642\n"
     ]
    }
   ],
   "source": [
    "history = model.fit(data_gen,epochs = 8,steps_per_epoch = 8,callbacks = [callbacks], verbose = 1)"
   ]
  },
  {
   "cell_type": "code",
   "execution_count": 39,
   "metadata": {},
   "outputs": [
    {
     "name": "stdout",
     "output_type": "stream",
     "text": [
      "['beautiful-1274056_960_720.webp', 'trendy-ladies-tops-500x500.jpg', '18ea0a314a497ff12f62bb1152f83b38.jpg', 'download.jpeg', 'best-multivitamins-for-men-1296x728-feature.jpg', 'download (1).jpeg', 'images.jpeg', '1c265b568fec07eb220ab991681e1eae5643fd4191e6e3256872e12b4ffd.jpeg']\n"
     ]
    }
   ],
   "source": [
    "test_dir =  # path to you test dir\n",
    "test_list = os.listdir(test_dir)\n",
    "print(test_list)"
   ]
  },
  {
   "cell_type": "code",
   "execution_count": 45,
   "metadata": {},
   "outputs": [
    {
     "name": "stdout",
     "output_type": "stream",
     "text": [
      "[1.]\n",
      "beautiful-1274056_960_720.webp is a human\n",
      "[1.]\n",
      "trendy-ladies-tops-500x500.jpg is a human\n",
      "[0.]\n",
      "18ea0a314a497ff12f62bb1152f83b38.jpg is a horse\n",
      "[0.]\n",
      "download.jpeg is a horse\n",
      "[1.]\n",
      "best-multivitamins-for-men-1296x728-feature.jpg is a human\n",
      "[1.]\n",
      "download (1).jpeg is a human\n",
      "[0.]\n",
      "images.jpeg is a horse\n",
      "[0.]\n",
      "1c265b568fec07eb220ab991681e1eae5643fd4191e6e3256872e12b4ffd.jpeg is a horse\n"
     ]
    }
   ],
   "source": [
    "for fl in test_list:\n",
    "    path =  os.path.join(test_dir, fl)\n",
    "    img = image.load_img(path, target_size=(150, 150))\n",
    "    x = image.img_to_array(img)\n",
    "    x = np.expand_dims(x, axis=0)\n",
    "    \n",
    "    images = np.vstack([x])\n",
    "    classes = model.predict(images, batch_size=10)\n",
    "    print(classes[0])\n",
    "    if classes[0]>0.5:\n",
    "        print(fl + \" is a human\")\n",
    "    else:\n",
    "        print(fl + \" is a horse\")\n",
    " "
   ]
  },
  {
   "cell_type": "code",
   "execution_count": 46,
   "metadata": {},
   "outputs": [
    {
     "data": {
      "image/png": "[encoded data removed]",
      "text/plain": [
       "<Figure size 432x288 with 1 Axes>"
      ]
     },
     "metadata": {
      "needs_background": "light"
     },
     "output_type": "display_data"
    },
    {
     "data": {
      "text/plain": [
       "<Figure size 432x288 with 0 Axes>"
      ]
     },
     "metadata": {},
     "output_type": "display_data"
    }
   ],
   "source": [
    "import matplotlib.pyplot as plt\n",
    "acc = history.history['acc']\n",
    "loss = history.history['loss']\n",
    "\n",
    "epochs = range(len(acc))\n",
    "\n",
    "plt.plot(epochs, acc, 'r', label='Training accuracy')\n",
    "plt.title('Training accuracy')\n",
    "plt.legend(loc=0)\n",
    "plt.figure()\n",
    "\n",
    "\n",
    "plt.show()"
   ]
  },
  {
   "cell_type": "code",
   "execution_count": null,
   "metadata": {},
   "outputs": [],
   "source": []
  }
 ],
 "metadata": {
  "kernelspec": {
   "display_name": "Python 3",
   "language": "python",
   "name": "python3"
  },
  "language_info": {
   "codemirror_mode": {
    "name": "ipython",
    "version": 3
   },
   "file_extension": ".py",
   "mimetype": "text/x-python",
   "name": "python",
   "nbconvert_exporter": "python",
   "pygments_lexer": "ipython3",
   "version": "3.8.2"
  }
 },
 "nbformat": 4,
 "nbformat_minor": 4
}
